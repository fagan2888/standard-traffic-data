{
 "cells": [
  {
   "cell_type": "markdown",
   "metadata": {},
   "source": [
    "# Inferring the Vehicle Type with Neural Networks\n",
    "\n",
    "Ruggero Fabbiano – 25 February 2021"
   ]
  },
  {
   "cell_type": "markdown",
   "metadata": {},
   "source": [
    "## Introduction\n",
    "\n",
    "In a previous exploratory notebook (*Analysis of Urban-Traffic Simulated Data – part II*) we noticed an issue with pedestrians objects in SUMo MoST: a lot of the objects classified as pedestrians actually show a behaviour that is not really belonging to this class. The idea behind this notebook is to use deep learning to correctly classify the type of such vehicles.\n",
    "\n",
    "#### Why Deep Learning?\n",
    "\n",
    "Our data set can be thought as composed by multi-variate time-series (after proper manipulation) of vehicle trips around the Monaco area. As we know, the `sktime` package (a kind of \"SKLearn version for time-series\") has been conceived to treatspecifically this kind of data, and is supposed to provide better results than deep learning for multi-variate classification. So why deep learning?\n",
    "\n",
    "The answer is that this article is meant to provide a \"comparison\" (or better, a parallel work) with our other vehicle classification work that already uses SKTime (*Vehicle Type Prediction Using Simulated Trajectory Data*, by Pedro Venturott), to help us understand if there is a better way to approach such problem, and if so, what it is."
   ]
  },
  {
   "cell_type": "markdown",
   "metadata": {},
   "source": [
    "## The Data\n",
    "\n",
    "For the sake of comprehension we will use here the same data used in the exploratory notebook cited here above. Moreover, we suppose to have already carried out all the \"data cleaning\" that is done there.\n",
    "    \n",
    "We can then proceed to import the data previously saved, after installing and importing the needed packages."
   ]
  },
  {
   "cell_type": "markdown",
   "metadata": {},
   "source": [
    "## Install Needed Packages"
   ]
  },
  {
   "cell_type": "code",
   "execution_count": 1,
   "metadata": {},
   "outputs": [],
   "source": [
    "!pip install pandas\n",
    "!pip install seaborn\n",
    "!pip install sklearn\n",
    "!pip install tensorflow"
   ]
  },
  {
   "cell_type": "markdown",
   "metadata": {},
   "source": [
    "## Import Packages and Data"
   ]
  },
  {
   "cell_type": "code",
   "execution_count": 2,
   "metadata": {},
   "outputs": [],
   "source": [
    "import matplotlib.pyplot as plt\n",
    "import numpy as np\n",
    "import pandas as pd\n",
    "import seaborn as sns\n",
    "\n",
    "from sklearn.metrics import confusion_matrix\n",
    "from sklearn.preprocessing import RobustScaler\n",
    "from sklearn.preprocessing import OneHotEncoder\n",
    "from tensorflow import keras\n",
    "\n",
    "plt.style.use('bmh')"
   ]
  },
  {
   "cell_type": "code",
   "execution_count": 3,
   "metadata": {},
   "outputs": [
    {
     "data": {
      "text/html": [
       "<div>\n",
       "<style scoped>\n",
       "    .dataframe tbody tr th:only-of-type {\n",
       "        vertical-align: middle;\n",
       "    }\n",
       "\n",
       "    .dataframe tbody tr th {\n",
       "        vertical-align: top;\n",
       "    }\n",
       "\n",
       "    .dataframe thead th {\n",
       "        text-align: right;\n",
       "    }\n",
       "</style>\n",
       "<table border=\"1\" class=\"dataframe\">\n",
       "  <thead>\n",
       "    <tr style=\"text-align: right;\">\n",
       "      <th></th>\n",
       "      <th>t</th>\n",
       "      <th>angle</th>\n",
       "      <th>ID</th>\n",
       "      <th>lane_edge</th>\n",
       "      <th>position</th>\n",
       "      <th>slope</th>\n",
       "      <th>speed</th>\n",
       "      <th>type</th>\n",
       "      <th>x</th>\n",
       "      <th>y</th>\n",
       "      <th>z</th>\n",
       "      <th>time</th>\n",
       "    </tr>\n",
       "  </thead>\n",
       "  <tbody>\n",
       "    <tr>\n",
       "      <th>2</th>\n",
       "      <td>21600.0</td>\n",
       "      <td>50.48</td>\n",
       "      <td>pedestrian_2-1_3985_tr</td>\n",
       "      <td>153330#1_1</td>\n",
       "      <td>2.2</td>\n",
       "      <td>-1.57</td>\n",
       "      <td>0.0</td>\n",
       "      <td>moped</td>\n",
       "      <td>4811.50</td>\n",
       "      <td>2704.21</td>\n",
       "      <td>143.81</td>\n",
       "      <td>06:00:00</td>\n",
       "    </tr>\n",
       "    <tr>\n",
       "      <th>3</th>\n",
       "      <td>21600.0</td>\n",
       "      <td>50.48</td>\n",
       "      <td>pedestrian_2-1_3985</td>\n",
       "      <td>153330#1</td>\n",
       "      <td>2.20</td>\n",
       "      <td>-1.55</td>\n",
       "      <td>0.0</td>\n",
       "      <td>pedestrian</td>\n",
       "      <td>4811.50</td>\n",
       "      <td>2704.21</td>\n",
       "      <td>143.81</td>\n",
       "      <td>06:00:00</td>\n",
       "    </tr>\n",
       "    <tr>\n",
       "      <th>4</th>\n",
       "      <td>21600.0</td>\n",
       "      <td>307.42</td>\n",
       "      <td>pedestrian_2-1_5063_tr</td>\n",
       "      <td>152413#3_1</td>\n",
       "      <td>2.3</td>\n",
       "      <td>-6.20</td>\n",
       "      <td>0.0</td>\n",
       "      <td>motorcycle</td>\n",
       "      <td>2006.06</td>\n",
       "      <td>3313.49</td>\n",
       "      <td>400.40</td>\n",
       "      <td>06:00:00</td>\n",
       "    </tr>\n",
       "    <tr>\n",
       "      <th>5</th>\n",
       "      <td>21600.0</td>\n",
       "      <td>307.42</td>\n",
       "      <td>pedestrian_2-1_5063</td>\n",
       "      <td>152413#3</td>\n",
       "      <td>2.30</td>\n",
       "      <td>-6.20</td>\n",
       "      <td>0.0</td>\n",
       "      <td>pedestrian</td>\n",
       "      <td>2006.06</td>\n",
       "      <td>3313.49</td>\n",
       "      <td>400.40</td>\n",
       "      <td>06:00:00</td>\n",
       "    </tr>\n",
       "    <tr>\n",
       "      <th>6</th>\n",
       "      <td>21600.0</td>\n",
       "      <td>121.94</td>\n",
       "      <td>pedestrian_2-1_5887_tr</td>\n",
       "      <td>-152557#1_1</td>\n",
       "      <td>2.3</td>\n",
       "      <td>-0.04</td>\n",
       "      <td>0.0</td>\n",
       "      <td>motorcycle</td>\n",
       "      <td>6482.50</td>\n",
       "      <td>3763.28</td>\n",
       "      <td>57.60</td>\n",
       "      <td>06:00:00</td>\n",
       "    </tr>\n",
       "  </tbody>\n",
       "</table>\n",
       "</div>"
      ],
      "text/plain": [
       "         t   angle                      ID    lane_edge position  slope  \\\n",
       "2  21600.0   50.48  pedestrian_2-1_3985_tr   153330#1_1      2.2  -1.57   \n",
       "3  21600.0   50.48     pedestrian_2-1_3985     153330#1     2.20  -1.55   \n",
       "4  21600.0  307.42  pedestrian_2-1_5063_tr   152413#3_1      2.3  -6.20   \n",
       "5  21600.0  307.42     pedestrian_2-1_5063     152413#3     2.30  -6.20   \n",
       "6  21600.0  121.94  pedestrian_2-1_5887_tr  -152557#1_1      2.3  -0.04   \n",
       "\n",
       "   speed        type        x        y       z      time  \n",
       "2    0.0       moped  4811.50  2704.21  143.81  06:00:00  \n",
       "3    0.0  pedestrian  4811.50  2704.21  143.81  06:00:00  \n",
       "4    0.0  motorcycle  2006.06  3313.49  400.40  06:00:00  \n",
       "5    0.0  pedestrian  2006.06  3313.49  400.40  06:00:00  \n",
       "6    0.0  motorcycle  6482.50  3763.28   57.60  06:00:00  "
      ]
     },
     "execution_count": 3,
     "metadata": {},
     "output_type": "execute_result"
    }
   ],
   "source": [
    "data = pd.read_pickle(\"MoST_0600_0830_processed.pkl\")\n",
    "data.head()"
   ]
  },
  {
   "cell_type": "markdown",
   "metadata": {},
   "source": [
    "## Framing the Problem"
   ]
  },
  {
   "cell_type": "markdown",
   "metadata": {},
   "source": [
    "As we already said in the introduction, we want to classify vehicles; in particular, we want to re-classify objects that the MoST scenario wrongly labels as pedestrianss.\n",
    "\n",
    "Dealing with deep learning and multi-variate time-series, we have two main approaches to choose from:\n",
    "* Perform a feature-engineering task to extract static features from the time-series (*e.g.*, average speed, time spend queueing, max. speed, max. acceleration and so on), and then fed them to any standard classification algorithm.\n",
    "* Use our dataframe as-is (that of course, is never really *as-is*...) and using directly time-series as our to-be-classified data; in this second case we can\n",
    "    * split the time-series into several fixed-length windows and feed them directly to a convolutional neural network, that basically do the feature extraction on its own;\n",
    "    * use a neural network that naturally consumes time-series data.\n",
    "\n",
    "To fully exploit the *time-series* data property we will use this second approach, even if it could prove to be more complex / resource-intensive. In particular, we will build a recurrent neural network, that can be directly fed with time-series data."
   ]
  },
  {
   "cell_type": "markdown",
   "metadata": {},
   "source": [
    "## Selecting the Good Features"
   ]
  },
  {
   "cell_type": "markdown",
   "metadata": {},
   "source": [
    "The first step is obviously to select the good features for our classification problem. Let's recapitulate them:"
   ]
  },
  {
   "cell_type": "code",
   "execution_count": 4,
   "metadata": {},
   "outputs": [
    {
     "data": {
      "text/plain": [
       "Index(['t', 'angle', 'ID', 'lane_edge', 'position', 'slope', 'speed', 'type',\n",
       "       'x', 'y', 'z', 'time'],\n",
       "      dtype='object')"
      ]
     },
     "execution_count": 4,
     "metadata": {},
     "output_type": "execute_result"
    }
   ],
   "source": [
    "data.columns"
   ]
  },
  {
   "cell_type": "markdown",
   "metadata": {},
   "source": [
    "* We will surely keep `t` and `ID`, to have the time indication and be able to distinguish the different time-series (<font color=\"\" aqua>is time really necessary though?</font>); we won't need the redundant feature `time`.\n",
    "* `angle`, `position`, `slope`, `x`, `y`, `z` are \"tolopogical\" variables related to the lane the vehicle is in, so probably not very interesting; at the same time, their being numeric can prove useful as lane can be too complicated to use.\n",
    "* As said before, `lane_edge` associated with the time information can help us dissociate the intrinsic vehicle behaviour from the traffic conditions; at the same time, encoding all the possible lanes can become challenging.\n",
    "* `speed` and `type` are without any doubt the most important features: the first one is the one that probably better describes a vehicle behaviour, while the latter will be our classification goal.\n",
    "\n",
    "In conclusion, keeping the `x`/`y` position instead of the lane information will probably prove wiser. Let's proceed:"
   ]
  },
  {
   "cell_type": "code",
   "execution_count": 5,
   "metadata": {},
   "outputs": [
    {
     "data": {
      "text/html": [
       "<div>\n",
       "<style scoped>\n",
       "    .dataframe tbody tr th:only-of-type {\n",
       "        vertical-align: middle;\n",
       "    }\n",
       "\n",
       "    .dataframe tbody tr th {\n",
       "        vertical-align: top;\n",
       "    }\n",
       "\n",
       "    .dataframe thead th {\n",
       "        text-align: right;\n",
       "    }\n",
       "</style>\n",
       "<table border=\"1\" class=\"dataframe\">\n",
       "  <thead>\n",
       "    <tr style=\"text-align: right;\">\n",
       "      <th></th>\n",
       "      <th>t</th>\n",
       "      <th>ID</th>\n",
       "      <th>x</th>\n",
       "      <th>y</th>\n",
       "      <th>speed</th>\n",
       "      <th>type</th>\n",
       "    </tr>\n",
       "  </thead>\n",
       "  <tbody>\n",
       "    <tr>\n",
       "      <th>2</th>\n",
       "      <td>21600.0</td>\n",
       "      <td>pedestrian_2-1_3985_tr</td>\n",
       "      <td>4811.50</td>\n",
       "      <td>2704.21</td>\n",
       "      <td>0.0</td>\n",
       "      <td>moped</td>\n",
       "    </tr>\n",
       "    <tr>\n",
       "      <th>3</th>\n",
       "      <td>21600.0</td>\n",
       "      <td>pedestrian_2-1_3985</td>\n",
       "      <td>4811.50</td>\n",
       "      <td>2704.21</td>\n",
       "      <td>0.0</td>\n",
       "      <td>pedestrian</td>\n",
       "    </tr>\n",
       "    <tr>\n",
       "      <th>4</th>\n",
       "      <td>21600.0</td>\n",
       "      <td>pedestrian_2-1_5063_tr</td>\n",
       "      <td>2006.06</td>\n",
       "      <td>3313.49</td>\n",
       "      <td>0.0</td>\n",
       "      <td>motorcycle</td>\n",
       "    </tr>\n",
       "    <tr>\n",
       "      <th>5</th>\n",
       "      <td>21600.0</td>\n",
       "      <td>pedestrian_2-1_5063</td>\n",
       "      <td>2006.06</td>\n",
       "      <td>3313.49</td>\n",
       "      <td>0.0</td>\n",
       "      <td>pedestrian</td>\n",
       "    </tr>\n",
       "    <tr>\n",
       "      <th>6</th>\n",
       "      <td>21600.0</td>\n",
       "      <td>pedestrian_2-1_5887_tr</td>\n",
       "      <td>6482.50</td>\n",
       "      <td>3763.28</td>\n",
       "      <td>0.0</td>\n",
       "      <td>motorcycle</td>\n",
       "    </tr>\n",
       "  </tbody>\n",
       "</table>\n",
       "</div>"
      ],
      "text/plain": [
       "         t                      ID        x        y  speed        type\n",
       "2  21600.0  pedestrian_2-1_3985_tr  4811.50  2704.21    0.0       moped\n",
       "3  21600.0     pedestrian_2-1_3985  4811.50  2704.21    0.0  pedestrian\n",
       "4  21600.0  pedestrian_2-1_5063_tr  2006.06  3313.49    0.0  motorcycle\n",
       "5  21600.0     pedestrian_2-1_5063  2006.06  3313.49    0.0  pedestrian\n",
       "6  21600.0  pedestrian_2-1_5887_tr  6482.50  3763.28    0.0  motorcycle"
      ]
     },
     "execution_count": 5,
     "metadata": {},
     "output_type": "execute_result"
    }
   ],
   "source": [
    "data = data[['t', 'ID', 'x', 'y', 'speed', 'type']]\n",
    "data.head()"
   ]
  },
  {
   "cell_type": "markdown",
   "metadata": {},
   "source": [
    "We can also think about extract new features: one good candidate seems to be approximate acceleration. Let's do it but... don't run it for the moment ;)\n",
    "It can take quite a lot of time, so better postpone when our data-set will be reduced to what we really need..."
   ]
  },
  {
   "cell_type": "code",
   "execution_count": 6,
   "metadata": {},
   "outputs": [],
   "source": [
    "def set_acc(data_set, ID_feat='ID', speed_feat='speed'):\n",
    "    for ID in data_set[ID_feat].unique():\n",
    "        ID_data = data_set[data_set[ID_feat]==ID]\n",
    "        ID_acc = ID_data[speed_feat].diff()/5/3.6 # T = 5s [m/s²]\n",
    "        data_set.loc[ID_acc.index, 'acceleration'] = ID_acc\n",
    "    return data_set.dropna(axis=0)"
   ]
  },
  {
   "cell_type": "markdown",
   "metadata": {},
   "source": [
    "Let us also check that our feature values are well-formatted numeric (we already checked it for speed in the previous notebook):"
   ]
  },
  {
   "cell_type": "code",
   "execution_count": 7,
   "metadata": {},
   "outputs": [],
   "source": [
    "def process_values(x):\n",
    "    try: return float(x)\n",
    "    except ValueError: return np.NaN # we might have abnormal values\n",
    "\n",
    "data[['x', 'y']] = data[['x', 'y']].applymap(process_values)"
   ]
  },
  {
   "cell_type": "markdown",
   "metadata": {},
   "source": [
    "Were there anomalous values?"
   ]
  },
  {
   "cell_type": "code",
   "execution_count": 8,
   "metadata": {},
   "outputs": [
    {
     "data": {
      "text/html": [
       "<div>\n",
       "<style scoped>\n",
       "    .dataframe tbody tr th:only-of-type {\n",
       "        vertical-align: middle;\n",
       "    }\n",
       "\n",
       "    .dataframe tbody tr th {\n",
       "        vertical-align: top;\n",
       "    }\n",
       "\n",
       "    .dataframe thead th {\n",
       "        text-align: right;\n",
       "    }\n",
       "</style>\n",
       "<table border=\"1\" class=\"dataframe\">\n",
       "  <thead>\n",
       "    <tr style=\"text-align: right;\">\n",
       "      <th></th>\n",
       "      <th>t</th>\n",
       "      <th>ID</th>\n",
       "      <th>x</th>\n",
       "      <th>y</th>\n",
       "      <th>speed</th>\n",
       "      <th>type</th>\n",
       "    </tr>\n",
       "  </thead>\n",
       "  <tbody>\n",
       "    <tr>\n",
       "      <th>1024317</th>\n",
       "      <td>23575.0</td>\n",
       "      <td>pedestrian_1-2_2838_tr</td>\n",
       "      <td>NaN</td>\n",
       "      <td>NaN</td>\n",
       "      <td>9.936</td>\n",
       "      <td>motorcycle</td>\n",
       "    </tr>\n",
       "    <tr>\n",
       "      <th>1024318</th>\n",
       "      <td>23575.0</td>\n",
       "      <td>pedestrian_1-2_2838</td>\n",
       "      <td>NaN</td>\n",
       "      <td>NaN</td>\n",
       "      <td>9.936</td>\n",
       "      <td>pedestrian</td>\n",
       "    </tr>\n",
       "    <tr>\n",
       "      <th>2923468</th>\n",
       "      <td>25410.0</td>\n",
       "      <td>pedestrian_1-2_4375_tr</td>\n",
       "      <td>NaN</td>\n",
       "      <td>NaN</td>\n",
       "      <td>19.584</td>\n",
       "      <td>motorcycle</td>\n",
       "    </tr>\n",
       "    <tr>\n",
       "      <th>2923469</th>\n",
       "      <td>25410.0</td>\n",
       "      <td>pedestrian_1-2_4375</td>\n",
       "      <td>NaN</td>\n",
       "      <td>NaN</td>\n",
       "      <td>19.584</td>\n",
       "      <td>pedestrian</td>\n",
       "    </tr>\n",
       "  </tbody>\n",
       "</table>\n",
       "</div>"
      ],
      "text/plain": [
       "               t                      ID   x   y   speed        type\n",
       "1024317  23575.0  pedestrian_1-2_2838_tr NaN NaN   9.936  motorcycle\n",
       "1024318  23575.0     pedestrian_1-2_2838 NaN NaN   9.936  pedestrian\n",
       "2923468  25410.0  pedestrian_1-2_4375_tr NaN NaN  19.584  motorcycle\n",
       "2923469  25410.0     pedestrian_1-2_4375 NaN NaN  19.584  pedestrian"
      ]
     },
     "execution_count": 8,
     "metadata": {},
     "output_type": "execute_result"
    }
   ],
   "source": [
    "anomalies = data[(data['x'].isna()) | (data['y'].isna())]\n",
    "anomalies"
   ]
  },
  {
   "cell_type": "markdown",
   "metadata": {},
   "source": [
    "Only 4, let's drop them. We'll drop the whole time-series to avoid incoherences due to holes in the data series; also, since they are very few, it is not worth to fine-work on the relative time-series to impute them."
   ]
  },
  {
   "cell_type": "code",
   "execution_count": 9,
   "metadata": {},
   "outputs": [],
   "source": [
    "data = data[~data['ID'].isin(anomalies['ID'].unique())]"
   ]
  },
  {
   "cell_type": "markdown",
   "metadata": {},
   "source": [
    "## Selecting Time-Series"
   ]
  },
  {
   "cell_type": "markdown",
   "metadata": {},
   "source": [
    "Before splitting our data set, we have to set a uniform length for our time-series: let's choose 20 minutes as the default length.\n",
    "\n",
    "Thus, we have to filter out vehicles with a shorter travel time:"
   ]
  },
  {
   "cell_type": "code",
   "execution_count": 10,
   "metadata": {},
   "outputs": [],
   "source": [
    "TS_lengths = data.groupby('ID')['t'].count()\n",
    "L = 20*60/5 # number of desired steps\n",
    "usable_obj = TS_lengths[TS_lengths>=L].index\n",
    "\n",
    "data = data[data['ID'].isin(usable_obj)]"
   ]
  },
  {
   "cell_type": "markdown",
   "metadata": {},
   "source": [
    "## Splitting the Data Set"
   ]
  },
  {
   "cell_type": "markdown",
   "metadata": {},
   "source": [
    "The next step is divide our data set into training and testing sets.\n",
    "\n",
    "First we have to take out the pedestrians we want to re-classify, as this will be our \"production inference\" data set; then we have to get train and test sets from the remaining data."
   ]
  },
  {
   "cell_type": "code",
   "execution_count": null,
   "metadata": {},
   "outputs": [],
   "source": [
    "To do so, we have to remember that we want to classify pedestrians. Nonetheless, we cannot just move all of them into testing set, because the model should learn also what a pedestrian time-series looks like!\n",
    "We need to find a simple method to get what could be \"true\" pedestrians.\n",
    "\n",
    "Let's naively start with speed."
   ]
  },
  {
   "cell_type": "markdown",
   "metadata": {},
   "source": [
    "First, how many possible pedestrians we have?"
   ]
  },
  {
   "cell_type": "code",
   "execution_count": 27,
   "metadata": {},
   "outputs": [
    {
     "name": "stdout",
     "output_type": "stream",
     "text": [
      "4967 pedestrians out of 12489 objects\n"
     ]
    }
   ],
   "source": [
    "all_ped = data[data['type']=='pedestrian']['ID'].unique()\n",
    "all_obj = data['ID'].unique()\n",
    "\n",
    "print(F\"{len(all_ped)} pedestrians out of {len(all_obj)} objects\")"
   ]
  },
  {
   "cell_type": "markdown",
   "metadata": {},
   "source": [
    "A bit more than a third, knowing that before filtering out time-series it was almost half (from previous notebook): we have dropped a lot of pedestrians in proportions!\n",
    "\n",
    "[SUMo vehicle type parameter defaults](https://sumo.dlr.de/docs/Vehicle_Type_Parameter_Defaults.html) tell us v=5.4 km/h. With some variation (std=0,1), more than 99 % of pedestrians should have v_max<=5,7. let's choose a speed of 6 km/h as limit."
   ]
  },
  {
   "cell_type": "code",
   "execution_count": 28,
   "metadata": {},
   "outputs": [],
   "source": [
    "ped_v_max = data[data['type']=='pedestrian'].groupby('ID')['speed'].max()"
   ]
  },
  {
   "cell_type": "code",
   "execution_count": 32,
   "metadata": {},
   "outputs": [
    {
     "data": {
      "text/plain": [
       "46"
      ]
     },
     "execution_count": 32,
     "metadata": {},
     "output_type": "execute_result"
    }
   ],
   "source": [
    "real_ped = ped_v_max[ped_v_max<6]\n",
    "\n",
    "len(real_ped)"
   ]
  },
  {
   "cell_type": "markdown",
   "metadata": {},
   "source": [
    "46! Less than 1 % of the total \"possible pedestrians\" have a max. speed lower than the maximum declared!\n",
    "\n",
    "Let's do a kind of \"manual sanity check\" on these 460 on acceleration. [SUMo vehicle type parameter defaults](https://sumo.dlr.de/docs/Vehicle_Type_Parameter_Defaults.html) tell us a_max = 1.5, a_min = -2, (m/s2). With some variation (std=0,1), more than 99 % of pedestrians should have a_max<1,8 and a_min>-2,3. Let's choose a -2,5<a<2."
   ]
  },
  {
   "cell_type": "code",
   "execution_count": 33,
   "metadata": {},
   "outputs": [],
   "source": [
    "ped_speeds = data[data['type']=='pedestrian'][['ID', 'speed']]\n",
    "real_ped = pd.DataFrame(real_ped)"
   ]
  },
  {
   "cell_type": "code",
   "execution_count": 34,
   "metadata": {},
   "outputs": [],
   "source": [
    "def get_acc_peaks(ID):\n",
    "    acc = ped_speeds[ped_speeds['ID']==ID]['speed'].diff()[1:]/5/3.6 # m/s^2\n",
    "    try:\n",
    "        return min(acc), max(acc)\n",
    "    except ValueError:\n",
    "        return 0, 0\n",
    "\n",
    "def set_acc_peaks(DF):\n",
    "    ind, acc_min, acc_max = [], [], []\n",
    "    for obj_ID, _ in DF.iterrows():\n",
    "        m, M = get_acc_peaks(obj_ID)\n",
    "        ind.append(obj_ID)\n",
    "        acc_min.append(m)\n",
    "        acc_max.append(M)\n",
    "    return pd.DataFrame({\"min.\": acc_min, \"max.\": acc_max}, index=DF.index)"
   ]
  },
  {
   "cell_type": "code",
   "execution_count": 35,
   "metadata": {},
   "outputs": [],
   "source": [
    "real_ped[[\"a min.\", \"a max.\"]] = set_acc_peaks(real_ped)"
   ]
  },
  {
   "cell_type": "code",
   "execution_count": 36,
   "metadata": {},
   "outputs": [],
   "source": [
    "assert real_ped[real_ped['a min.']<-2.5].empty\n",
    "assert real_ped[real_ped['a max.']>2].empty"
   ]
  },
  {
   "cell_type": "markdown",
   "metadata": {},
   "source": [
    "OK, those will then be our \"real\" pedestrians. The other will be the objects to be classified."
   ]
  },
  {
   "cell_type": "code",
   "execution_count": 37,
   "metadata": {},
   "outputs": [],
   "source": [
    "to_classify = data[data['ID'].isin(ped_v_max[ped_v_max>6].index)]\n",
    "train_test_data = data[~data['ID'].isin(to_classify['ID'])]"
   ]
  },
  {
   "cell_type": "markdown",
   "metadata": {},
   "source": [
    "How many vehicles do we have to classify, and with how many ojects?"
   ]
  },
  {
   "cell_type": "code",
   "execution_count": 38,
   "metadata": {},
   "outputs": [
    {
     "data": {
      "text/plain": [
       "(4921, 7568)"
      ]
     },
     "execution_count": 38,
     "metadata": {},
     "output_type": "execute_result"
    }
   ],
   "source": [
    "len(to_classify['ID'].unique()), len(train_test_data['ID'].unique())"
   ]
  },
  {
   "cell_type": "markdown",
   "metadata": {},
   "source": [
    "Almost good. But, before proceeding, let's look how our data set is (un)balanced... "
   ]
  },
  {
   "cell_type": "code",
   "execution_count": 39,
   "metadata": {},
   "outputs": [
    {
     "name": "stdout",
     "output_type": "stream",
     "text": [
      "bus: 108 (1.43%)\n",
      "lorry: 28 (0.37%)\n",
      "delivery: 108 (1.43%)\n",
      "pedestrian: 46 (0.61%)\n",
      "bicycle: 9 (0.12%)\n",
      "motorcycle: 1327 (17.53%)\n",
      "moped: 579 (7.65%)\n",
      "car: 5309 (70.15%)\n",
      "hire: 5 (0.07%)\n",
      "special: 49 (0.65%)\n"
     ]
    }
   ],
   "source": [
    "object_type = train_test_data.groupby('ID')['type'].min()\n",
    "n_obj = len(object_type)\n",
    "for obj_type in object_type.unique():\n",
    "    n_type = len(object_type[object_type==obj_type])\n",
    "    print(obj_type + F\": {n_type} ({n_type/n_obj:.2%})\")"
   ]
  },
  {
   "cell_type": "markdown",
   "metadata": {},
   "source": [
    "We could drop pedestrians for sure, since we know from our previous \"classification\" that what we try to classify are not pedestrians. Anyway, we might end up reclassifying some of them as real pedestrians.\n",
    "Let's drop for sure hire and bicycles, they are too few to be used.\n",
    "Then we can take all the other instances for type below 150 objects, and sample 150 for the others. It still will be a bit unbalanced, but let's see how the model behaves."
   ]
  },
  {
   "cell_type": "code",
   "execution_count": 40,
   "metadata": {},
   "outputs": [],
   "source": [
    "# CHECK-POINT 1\n",
    "data.to_pickle(\"data_1.pkl\")\n",
    "train_test_data.to_pickle(\"train_test_data_1.pkl\")\n",
    "to_classify.to_pickle(\"to_classify_1.pkl\")"
   ]
  },
  {
   "cell_type": "code",
   "execution_count": 41,
   "metadata": {},
   "outputs": [],
   "source": [
    "train_test_data = train_test_data[~train_test_data['type'].isin(['bicycle', 'hire'])]"
   ]
  },
  {
   "cell_type": "code",
   "execution_count": 44,
   "metadata": {},
   "outputs": [],
   "source": [
    "to_sample = ['moped', 'motorcycle', 'car']\n",
    "IDs = []\n",
    "for v_type in to_sample:\n",
    "    IDs.extend(object_type[object_type==v_type].sample(150, random_state=1).index)"
   ]
  },
  {
   "cell_type": "code",
   "execution_count": 45,
   "metadata": {},
   "outputs": [],
   "source": [
    "train_test_data = train_test_data[~((train_test_data['type'].isin(to_sample)) &\n",
    "                                    (~train_test_data['ID'].isin(IDs)))]"
   ]
  },
  {
   "cell_type": "markdown",
   "metadata": {},
   "source": [
    "Now we have to split our training data set. We do this on each tipe so as to have the same balance, and we keep the base split 1:4. But before, this is finally the moment to create the acceleration feature. Do you remember? Our data set is as small as possible, so better now... launch this and go grab a coffee!"
   ]
  },
  {
   "cell_type": "code",
   "execution_count": 67,
   "metadata": {},
   "outputs": [
    {
     "name": "stderr",
     "output_type": "stream",
     "text": [
      "C:\\Users\\rugge\\Anaconda\\lib\\site-packages\\pandas\\core\\indexing.py:1596: SettingWithCopyWarning: \n",
      "A value is trying to be set on a copy of a slice from a DataFrame.\n",
      "Try using .loc[row_indexer,col_indexer] = value instead\n",
      "\n",
      "See the caveats in the documentation: https://pandas.pydata.org/pandas-docs/stable/user_guide/indexing.html#returning-a-view-versus-a-copy\n",
      "  self.obj[key] = _infer_fill_value(value)\n",
      "C:\\Users\\rugge\\Anaconda\\lib\\site-packages\\pandas\\core\\indexing.py:1745: SettingWithCopyWarning: \n",
      "A value is trying to be set on a copy of a slice from a DataFrame.\n",
      "Try using .loc[row_indexer,col_indexer] = value instead\n",
      "\n",
      "See the caveats in the documentation: https://pandas.pydata.org/pandas-docs/stable/user_guide/indexing.html#returning-a-view-versus-a-copy\n",
      "  isetter(ilocs[0], value)\n"
     ]
    }
   ],
   "source": [
    "%time\n",
    "\n",
    "train_test_data = set_acc(train_test_data)\n",
    "to_classify = set_acc(to_classify)"
   ]
  },
  {
   "cell_type": "markdown",
   "metadata": {},
   "source": [
    "Let's check:"
   ]
  },
  {
   "cell_type": "code",
   "execution_count": 104,
   "metadata": {},
   "outputs": [
    {
     "data": {
      "text/html": [
       "<div>\n",
       "<style scoped>\n",
       "    .dataframe tbody tr th:only-of-type {\n",
       "        vertical-align: middle;\n",
       "    }\n",
       "\n",
       "    .dataframe tbody tr th {\n",
       "        vertical-align: top;\n",
       "    }\n",
       "\n",
       "    .dataframe thead th {\n",
       "        text-align: right;\n",
       "    }\n",
       "</style>\n",
       "<table border=\"1\" class=\"dataframe\">\n",
       "  <thead>\n",
       "    <tr style=\"text-align: right;\">\n",
       "      <th></th>\n",
       "      <th>t</th>\n",
       "      <th>ID</th>\n",
       "      <th>x</th>\n",
       "      <th>y</th>\n",
       "      <th>speed</th>\n",
       "      <th>acceleration</th>\n",
       "      <th>type</th>\n",
       "    </tr>\n",
       "  </thead>\n",
       "  <tbody>\n",
       "    <tr>\n",
       "      <th>120</th>\n",
       "      <td>21615.0</td>\n",
       "      <td>pedestrian_2-1_6106_tr</td>\n",
       "      <td>4072.08</td>\n",
       "      <td>1027.45</td>\n",
       "      <td>22.608</td>\n",
       "      <td>0.804</td>\n",
       "      <td>moped</td>\n",
       "    </tr>\n",
       "    <tr>\n",
       "      <th>207</th>\n",
       "      <td>21620.0</td>\n",
       "      <td>pedestrian_2-1_6106_tr</td>\n",
       "      <td>4049.45</td>\n",
       "      <td>993.85</td>\n",
       "      <td>35.892</td>\n",
       "      <td>0.738</td>\n",
       "      <td>moped</td>\n",
       "    </tr>\n",
       "    <tr>\n",
       "      <th>316</th>\n",
       "      <td>21625.0</td>\n",
       "      <td>pedestrian_2-1_6106_tr</td>\n",
       "      <td>4041.39</td>\n",
       "      <td>940.50</td>\n",
       "      <td>50.292</td>\n",
       "      <td>0.800</td>\n",
       "      <td>moped</td>\n",
       "    </tr>\n",
       "    <tr>\n",
       "      <th>449</th>\n",
       "      <td>21630.0</td>\n",
       "      <td>pedestrian_2-1_6106_tr</td>\n",
       "      <td>4102.44</td>\n",
       "      <td>968.04</td>\n",
       "      <td>56.736</td>\n",
       "      <td>0.358</td>\n",
       "      <td>moped</td>\n",
       "    </tr>\n",
       "    <tr>\n",
       "      <th>521</th>\n",
       "      <td>21635.0</td>\n",
       "      <td>pedestrian_1-1-veh_894_tr</td>\n",
       "      <td>5739.38</td>\n",
       "      <td>3076.56</td>\n",
       "      <td>16.128</td>\n",
       "      <td>0.896</td>\n",
       "      <td>moped</td>\n",
       "    </tr>\n",
       "    <tr>\n",
       "      <th>...</th>\n",
       "      <td>...</td>\n",
       "      <td>...</td>\n",
       "      <td>...</td>\n",
       "      <td>...</td>\n",
       "      <td>...</td>\n",
       "      <td>...</td>\n",
       "      <td>...</td>\n",
       "    </tr>\n",
       "    <tr>\n",
       "      <th>12077880</th>\n",
       "      <td>30595.0</td>\n",
       "      <td>pedestrian_1-1-pt_2375</td>\n",
       "      <td>5404.45</td>\n",
       "      <td>2340.98</td>\n",
       "      <td>0.000</td>\n",
       "      <td>0.000</td>\n",
       "      <td>pedestrian</td>\n",
       "    </tr>\n",
       "    <tr>\n",
       "      <th>12077938</th>\n",
       "      <td>30595.0</td>\n",
       "      <td>pedestrian_1-1-pt_7348</td>\n",
       "      <td>4749.34</td>\n",
       "      <td>1634.91</td>\n",
       "      <td>0.000</td>\n",
       "      <td>0.000</td>\n",
       "      <td>pedestrian</td>\n",
       "    </tr>\n",
       "    <tr>\n",
       "      <th>12077940</th>\n",
       "      <td>30595.0</td>\n",
       "      <td>pedestrian_1-1-pt_3726</td>\n",
       "      <td>4724.84</td>\n",
       "      <td>1831.69</td>\n",
       "      <td>0.000</td>\n",
       "      <td>0.000</td>\n",
       "      <td>pedestrian</td>\n",
       "    </tr>\n",
       "    <tr>\n",
       "      <th>12077941</th>\n",
       "      <td>30595.0</td>\n",
       "      <td>pedestrian_1-1-pt_4160</td>\n",
       "      <td>4724.90</td>\n",
       "      <td>1832.49</td>\n",
       "      <td>0.000</td>\n",
       "      <td>0.000</td>\n",
       "      <td>pedestrian</td>\n",
       "    </tr>\n",
       "    <tr>\n",
       "      <th>12077998</th>\n",
       "      <td>30595.0</td>\n",
       "      <td>pedestrian_1-1-pt_7894</td>\n",
       "      <td>4653.86</td>\n",
       "      <td>1421.93</td>\n",
       "      <td>3.024</td>\n",
       "      <td>0.020</td>\n",
       "      <td>pedestrian</td>\n",
       "    </tr>\n",
       "  </tbody>\n",
       "</table>\n",
       "<p>553726 rows × 7 columns</p>\n",
       "</div>"
      ],
      "text/plain": [
       "                t                         ID        x        y   speed  \\\n",
       "120       21615.0     pedestrian_2-1_6106_tr  4072.08  1027.45  22.608   \n",
       "207       21620.0     pedestrian_2-1_6106_tr  4049.45   993.85  35.892   \n",
       "316       21625.0     pedestrian_2-1_6106_tr  4041.39   940.50  50.292   \n",
       "449       21630.0     pedestrian_2-1_6106_tr  4102.44   968.04  56.736   \n",
       "521       21635.0  pedestrian_1-1-veh_894_tr  5739.38  3076.56  16.128   \n",
       "...           ...                        ...      ...      ...     ...   \n",
       "12077880  30595.0     pedestrian_1-1-pt_2375  5404.45  2340.98   0.000   \n",
       "12077938  30595.0     pedestrian_1-1-pt_7348  4749.34  1634.91   0.000   \n",
       "12077940  30595.0     pedestrian_1-1-pt_3726  4724.84  1831.69   0.000   \n",
       "12077941  30595.0     pedestrian_1-1-pt_4160  4724.90  1832.49   0.000   \n",
       "12077998  30595.0     pedestrian_1-1-pt_7894  4653.86  1421.93   3.024   \n",
       "\n",
       "          acceleration        type  \n",
       "120              0.804       moped  \n",
       "207              0.738       moped  \n",
       "316              0.800       moped  \n",
       "449              0.358       moped  \n",
       "521              0.896       moped  \n",
       "...                ...         ...  \n",
       "12077880         0.000  pedestrian  \n",
       "12077938         0.000  pedestrian  \n",
       "12077940         0.000  pedestrian  \n",
       "12077941         0.000  pedestrian  \n",
       "12077998         0.020  pedestrian  \n",
       "\n",
       "[553726 rows x 7 columns]"
      ]
     },
     "execution_count": 104,
     "metadata": {},
     "output_type": "execute_result"
    }
   ],
   "source": [
    "col = train_test_data.columns[:-2].to_list()\n",
    "col.extend(['acceleration', 'type'])\n",
    "\n",
    "train_test_data = train_test_data[col]\n",
    "to_classify = to_classify[col]\n",
    "\n",
    "train_test_data"
   ]
  },
  {
   "cell_type": "markdown",
   "metadata": {},
   "source": [
    "OK, back to our split!"
   ]
  },
  {
   "cell_type": "code",
   "execution_count": 108,
   "metadata": {},
   "outputs": [],
   "source": [
    "test_IDs = []\n",
    "for v_type in train_test_data['type'].unique():\n",
    "    single_type = train_test_data[train_test_data['type']==v_type]['ID'].unique()\n",
    "    test_IDs.extend(np.random.choice(single_type, int(len(A)*0.25)))\n",
    "\n",
    "train_data = train_test_data[~train_test_data['ID'].isin(test_IDs)]\n",
    "test_data = train_test_data[train_test_data['ID'].isin(test_IDs)]"
   ]
  },
  {
   "cell_type": "code",
   "execution_count": 109,
   "metadata": {},
   "outputs": [
    {
     "data": {
      "text/plain": [
       "(603, 186)"
      ]
     },
     "execution_count": 109,
     "metadata": {},
     "output_type": "execute_result"
    }
   ],
   "source": [
    "len(train_data['ID'].unique()), len(test_data['ID'].unique())"
   ]
  },
  {
   "cell_type": "code",
   "execution_count": 110,
   "metadata": {},
   "outputs": [],
   "source": [
    "# CHECK-POINT 2\n",
    "train_test_data.to_pickle(\"train_test_data_2.pkl\")\n",
    "to_classify.to_pickle(\"to_classify_2.pkl\")\n",
    "train_data.to_pickle(\"train_data_2.pkl\")\n",
    "test_data.to_pickle(\"test_data_2.pkl\")"
   ]
  },
  {
   "cell_type": "markdown",
   "metadata": {},
   "source": [
    "## Creating Vectors"
   ]
  },
  {
   "cell_type": "markdown",
   "metadata": {},
   "source": [
    "We have a lot of different features, better scale them..."
   ]
  },
  {
   "cell_type": "code",
   "execution_count": 113,
   "metadata": {},
   "outputs": [],
   "source": [
    "features = ['speed', 'x', 'y']\n",
    "\n",
    "scaler = RobustScaler()\n",
    "scaler = scaler.fit(train_data[features])\n",
    "train_data.loc[:, features] = scaler.transform(train_data[features].to_numpy())\n",
    "test_data.loc[:, features] = scaler.transform(test_data[features].to_numpy())\n",
    "to_classify.loc[:, features] = scaler.transform(to_classify[features].to_numpy())"
   ]
  },
  {
   "cell_type": "code",
   "execution_count": 114,
   "metadata": {},
   "outputs": [],
   "source": [
    "# CHECK-POINT 3\n",
    "train_data.to_pickle(\"train_data_3.pkl\")\n",
    "test_data.to_pickle(\"test_data_3.pkl\")\n",
    "to_classify.to_pickle(\"to_classify_3.pkl\")"
   ]
  },
  {
   "cell_type": "markdown",
   "metadata": {},
   "source": [
    "Now we have to create our train and test data sets. To exploit time properties of time-series we create repetitions shifted of each time-series object."
   ]
  },
  {
   "cell_type": "code",
   "execution_count": 116,
   "metadata": {},
   "outputs": [],
   "source": [
    "def create_learning_vectors(dataset, X_features=features, l_max=int(L), time_steps=80, step=20, y_feature='type'):\n",
    "    X, y = [], []\n",
    "    for obj in dataset['ID'].unique():\n",
    "        obj_data = dataset[dataset['ID']==obj].reset_index(drop=True)\n",
    "        for i in range(0, l_max-time_steps, step):\n",
    "            TS_slice = obj_data.iloc[i:i+time_steps][X_features].values\n",
    "            X.append(TS_slice)\n",
    "            y.append(obj_data[y_feature].unique())\n",
    "    return np.array(X), np.array(y)"
   ]
  },
  {
   "cell_type": "markdown",
   "metadata": {},
   "source": [
    "Another time to grab a coffee..."
   ]
  },
  {
   "cell_type": "code",
   "execution_count": 118,
   "metadata": {},
   "outputs": [
    {
     "name": "stdout",
     "output_type": "stream",
     "text": [
      "Wall time: 24.3 s\n"
     ]
    }
   ],
   "source": [
    "%%time\n",
    "\n",
    "X_train, y_train = create_learning_vectors(train_data)\n",
    "X_test, y_test = create_learning_vectors(test_data)\n",
    "# X_to_classify, _ = create_learning_vectors(to_classify) # let's postpone it, too heavy"
   ]
  },
  {
   "cell_type": "markdown",
   "metadata": {},
   "source": [
    "One last thing: we have to encode the output categorical variables!"
   ]
  },
  {
   "cell_type": "code",
   "execution_count": 120,
   "metadata": {},
   "outputs": [],
   "source": [
    "encoder = OneHotEncoder(sparse=False)\n",
    "encoder = encoder.fit(y_train)\n",
    "y_train = encoder.transform(y_train)\n",
    "y_test = encoder.transform(y_test)"
   ]
  },
  {
   "cell_type": "code",
   "execution_count": 121,
   "metadata": {},
   "outputs": [],
   "source": [
    "# CHECK-POINT 4\n",
    "np.save(\"X_train_4.npy\", X_train)\n",
    "np.save(\"y_train_4.npy\", y_train)\n",
    "np.save(\"X_test_4.npy\", X_test)\n",
    "np.save(\"y_test_4.npy\", y_test)\n",
    "# np.save(\"X_to_classify_4.npy\", X_to_classify)"
   ]
  },
  {
   "cell_type": "code",
   "execution_count": 79,
   "metadata": {},
   "outputs": [],
   "source": [
    "# LOAD\n",
    "train_data = pd.read_pickle(\"train.pkl\")\n",
    "test_data = pd.read_pickle(\"test.pkl\")\n",
    "np.load(\"X_train.npy\")\n",
    "np.load(\"y_train.npy\")"
   ]
  },
  {
   "cell_type": "markdown",
   "metadata": {},
   "source": [
    "## Building the Classification Model"
   ]
  },
  {
   "cell_type": "markdown",
   "metadata": {},
   "source": [
    "OK, time to build our model and see what it does!\n",
    "As we said we use long short-term memory (LSTM) recurrent neural network (RNN) architecture.\n",
    "<font color=\"aqua\">Unlike standard feedforward neural networks, LSTM has feedback connections. It can not only process single data points (such as images), but also entire sequences of data (such as speech or video).</font>"
   ]
  },
  {
   "cell_type": "code",
   "execution_count": 123,
   "metadata": {},
   "outputs": [],
   "source": [
    "model = keras.Sequential()\n",
    "model.add(\n",
    "    keras.layers.Bidirectional(\n",
    "      keras.layers.LSTM(\n",
    "          units=128, \n",
    "          input_shape=[X_train.shape[1], X_train.shape[2]]\n",
    "      )\n",
    "    )\n",
    ")\n",
    "model.add(keras.layers.Dropout(rate=0.5))\n",
    "model.add(keras.layers.Dense(units=128, activation='relu'))\n",
    "model.add(keras.layers.Dense(y_train.shape[1], activation='softmax'))\n",
    "model.compile(loss='categorical_crossentropy', optimizer='adam', metrics=['acc'])"
   ]
  },
  {
   "cell_type": "code",
   "execution_count": 124,
   "metadata": {},
   "outputs": [
    {
     "name": "stdout",
     "output_type": "stream",
     "text": [
      "Train on 4341 samples, validate on 483 samples\n",
      "Epoch 1/20\n",
      "4341/4341 [==============================] - 22s 5ms/sample - loss: 1.5664 - acc: 0.3642 - val_loss: 1.5134 - val_acc: 0.4079\n",
      "Epoch 2/20\n",
      "4341/4341 [==============================] - 24s 6ms/sample - loss: 1.2666 - acc: 0.4729 - val_loss: 1.3827 - val_acc: 0.4555\n",
      "Epoch 3/20\n",
      "4341/4341 [==============================] - 29s 7ms/sample - loss: 1.1954 - acc: 0.5050 - val_loss: 1.3980 - val_acc: 0.4534\n",
      "Epoch 4/20\n",
      "4341/4341 [==============================] - 30s 7ms/sample - loss: 1.1088 - acc: 0.5483 - val_loss: 1.3632 - val_acc: 0.4596\n",
      "Epoch 5/20\n",
      "4341/4341 [==============================] - 33s 8ms/sample - loss: 1.0463 - acc: 0.5711 - val_loss: 1.3308 - val_acc: 0.5010\n",
      "Epoch 6/20\n",
      "4341/4341 [==============================] - 28s 7ms/sample - loss: 0.9524 - acc: 0.6188 - val_loss: 1.2390 - val_acc: 0.5259\n",
      "Epoch 7/20\n",
      "4341/4341 [==============================] - 26s 6ms/sample - loss: 0.9288 - acc: 0.6181 - val_loss: 1.2189 - val_acc: 0.5280\n",
      "Epoch 8/20\n",
      "4341/4341 [==============================] - 27s 6ms/sample - loss: 0.8638 - acc: 0.6323 - val_loss: 1.2004 - val_acc: 0.5362\n",
      "Epoch 9/20\n",
      "4341/4341 [==============================] - 27s 6ms/sample - loss: 0.8244 - acc: 0.6581 - val_loss: 1.1843 - val_acc: 0.5507\n",
      "Epoch 10/20\n",
      "4341/4341 [==============================] - 26s 6ms/sample - loss: 0.8934 - acc: 0.6254 - val_loss: 1.2052 - val_acc: 0.5135\n",
      "Epoch 11/20\n",
      "4341/4341 [==============================] - 27s 6ms/sample - loss: 0.8141 - acc: 0.6616 - val_loss: 1.2592 - val_acc: 0.5135\n",
      "Epoch 12/20\n",
      "4341/4341 [==============================] - 27s 6ms/sample - loss: 0.8076 - acc: 0.6669 - val_loss: 1.2535 - val_acc: 0.5342\n",
      "Epoch 13/20\n",
      "4341/4341 [==============================] - 27s 6ms/sample - loss: 0.7999 - acc: 0.6664 - val_loss: 1.2676 - val_acc: 0.5466\n",
      "Epoch 14/20\n",
      "4341/4341 [==============================] - 30s 7ms/sample - loss: 0.7471 - acc: 0.6929 - val_loss: 1.2582 - val_acc: 0.5569\n",
      "Epoch 15/20\n",
      "4341/4341 [==============================] - 28s 6ms/sample - loss: 0.7534 - acc: 0.6872 - val_loss: 1.1907 - val_acc: 0.5673\n",
      "Epoch 16/20\n",
      "4341/4341 [==============================] - 27s 6ms/sample - loss: 0.7639 - acc: 0.6809 - val_loss: 1.2226 - val_acc: 0.5694\n",
      "Epoch 17/20\n",
      "4341/4341 [==============================] - 27s 6ms/sample - loss: 0.7291 - acc: 0.6936 - val_loss: 1.1819 - val_acc: 0.5590\n",
      "Epoch 18/20\n",
      "4341/4341 [==============================] - 28s 6ms/sample - loss: 0.7081 - acc: 0.7031 - val_loss: 1.2634 - val_acc: 0.5445\n",
      "Epoch 19/20\n",
      "4341/4341 [==============================] - 27s 6ms/sample - loss: 0.7114 - acc: 0.7095 - val_loss: 1.1888 - val_acc: 0.5445\n",
      "Epoch 20/20\n",
      "4341/4341 [==============================] - 27s 6ms/sample - loss: 0.6779 - acc: 0.7097 - val_loss: 1.1724 - val_acc: 0.5424\n"
     ]
    }
   ],
   "source": [
    "LSTM_RNN = model.fit(X_train, y_train, epochs=20, batch_size=64, validation_split=0.1,shuffle=True)"
   ]
  },
  {
   "cell_type": "code",
   "execution_count": 128,
   "metadata": {},
   "outputs": [
    {
     "data": {
      "image/png": "[encoded data removed]",
      "text/plain": [
       "<Figure size 432x288 with 1 Axes>"
      ]
     },
     "metadata": {
      "needs_background": "light"
     },
     "output_type": "display_data"
    }
   ],
   "source": [
    "plt.plot(LSTM_RNN.history['loss'], label='train')\n",
    "plt.plot(LSTM_RNN.history['val_loss'], label='test')\n",
    "plt.legend();"
   ]
  },
  {
   "cell_type": "code",
   "execution_count": 129,
   "metadata": {},
   "outputs": [
    {
     "name": "stdout",
     "output_type": "stream",
     "text": [
      "1488/1488 [==============================] - 3s 2ms/sample - loss: 1.1002 - acc: 0.5806 2s - los - ETA: 1s - loss: 0.8583 - acc: 0.63 - ETA: 1s - loss: 0.88\n"
     ]
    },
    {
     "data": {
      "text/plain": [
       "[1.1001510139797583, 0.58064514]"
      ]
     },
     "execution_count": 129,
     "metadata": {},
     "output_type": "execute_result"
    }
   ],
   "source": [
    "model.evaluate(X_test, y_test)"
   ]
  },
  {
   "cell_type": "code",
   "execution_count": 130,
   "metadata": {},
   "outputs": [],
   "source": [
    "y_pred = model.predict(X_test)"
   ]
  },
  {
   "cell_type": "code",
   "execution_count": 163,
   "metadata": {},
   "outputs": [
    {
     "data": {
      "image/png": "[encoded data removed]",
      "text/plain": [
       "<Figure size 432x288 with 2 Axes>"
      ]
     },
     "metadata": {
      "needs_background": "light"
     },
     "output_type": "display_data"
    }
   ],
   "source": [
    "y_true = encoder.inverse_transform(y_test)\n",
    "y_model = encoder.inverse_transform(y_pred)\n",
    "CM = confusion_matrix(y_true, y_model)\n",
    "\n",
    "_, ax = plt.subplots() \n",
    "ax = sns.heatmap(CM, annot=True, fmt=\"d\", cmap='afmhot')\n",
    "plt.ylabel('real types')\n",
    "plt.xlabel('predicted types')\n",
    "ax.set_xticklabels(encoder.categories_[0], rotation='vertical')\n",
    "ax.set_yticklabels(encoder.categories_[0], rotation='horizontal');"
   ]
  },
  {
   "cell_type": "markdown",
   "metadata": {},
   "source": [
    "## Open Questions\n",
    "\n",
    "5. With/without time as feature\n",
    "2. Use x/y or not?\n",
    "3. Really need for acceleration if RNN extracts features by itself?\n",
    "4. Do we really need to uniform time-series with this approach?\n",
    "5. Unbalanced data-set...\n",
    "6. Really need for sliding windows (and the other windows :))?"
   ]
  },
  {
   "cell_type": "code",
   "execution_count": null,
   "metadata": {},
   "outputs": [],
   "source": []
  }
 ],
 "metadata": {
  "kernelspec": {
   "display_name": "Python 3",
   "language": "python",
   "name": "python3"
  },
  "language_info": {
   "codemirror_mode": {
    "name": "ipython",
    "version": 3
   },
   "file_extension": ".py",
   "mimetype": "text/x-python",
   "name": "python",
   "nbconvert_exporter": "python",
   "pygments_lexer": "ipython3",
   "version": "3.7.3"
  }
 },
 "nbformat": 4,
 "nbformat_minor": 4
}
