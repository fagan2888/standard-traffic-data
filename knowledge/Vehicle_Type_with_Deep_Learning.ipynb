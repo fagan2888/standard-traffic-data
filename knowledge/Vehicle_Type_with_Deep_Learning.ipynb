{
 "cells": [
  {
   "cell_type": "markdown",
   "metadata": {},
   "source": [
    "# Inferring the Correct Vehicle Type with TensorFlow\n",
    "\n",
    "<font color=\"aqua\">Ruggero Fabbiano – 21 February 2021</font>\n",
    "\n",
    "<font color=\"aqua\">**Note: descriptive cells to be refined**</font>"
   ]
  },
  {
   "cell_type": "markdown",
   "metadata": {},
   "source": [
    "## Introduction\n",
    "\n",
    "In our previous analysis we saw that it seems that there are issues with pedestrians objects in SUMo MoST. The idea behind this notebook is to use deep learning to correctly classify the types of such vehicles. We will use all the other vehicles as a learning set for our model, then use this model to identify \"fake\" pedestrians.\n",
    "\n",
    "#### Why Deep Learning?\n",
    "\n",
    "Our data set can be thought as composed by multivariate time-series (after proper manipulation) of vehicles trip around Monaco area. As we know, SKTimes is the \"SKLearn version for time-series\", and as a package conceived specifically to treat this kind of data, is meant to provide better results than deep learning for multivariate classification. So why approach this problem with deep learning?\n",
    "\n",
    "The answer is that this article is meant exactly to provide a comparison with [the work of another author with SKTimes](notebook_link), hoping such comparison would allow to draw interesting conclusions. So, we will use TensorFlow to build a neural network to approach this problem."
   ]
  },
  {
   "cell_type": "markdown",
   "metadata": {},
   "source": [
    " # The Data\n",
    "\n",
    "For the sake of comprehension we will use here the same data as in [this notebook](notebook_link). Moreover, we suppose to have already carried out all the \"data cleaning\" carried out there.\n",
    "    \n",
    "We can so import such data, after installing and importing the needed packages."
   ]
  },
  {
   "cell_type": "markdown",
   "metadata": {},
   "source": [
    "## Install Needed Packages"
   ]
  },
  {
   "cell_type": "code",
   "execution_count": null,
   "metadata": {},
   "outputs": [],
   "source": [
    "!pip install pandas"
   ]
  },
  {
   "cell_type": "markdown",
   "metadata": {},
   "source": [
    "## Import Packages and Data"
   ]
  },
  {
   "cell_type": "code",
   "execution_count": 201,
   "metadata": {},
   "outputs": [],
   "source": [
    "import pandas as pd"
   ]
  },
  {
   "cell_type": "code",
   "execution_count": 2,
   "metadata": {},
   "outputs": [
    {
     "data": {
      "text/html": [
       "<div>\n",
       "<style scoped>\n",
       "    .dataframe tbody tr th:only-of-type {\n",
       "        vertical-align: middle;\n",
       "    }\n",
       "\n",
       "    .dataframe tbody tr th {\n",
       "        vertical-align: top;\n",
       "    }\n",
       "\n",
       "    .dataframe thead th {\n",
       "        text-align: right;\n",
       "    }\n",
       "</style>\n",
       "<table border=\"1\" class=\"dataframe\">\n",
       "  <thead>\n",
       "    <tr style=\"text-align: right;\">\n",
       "      <th></th>\n",
       "      <th>t</th>\n",
       "      <th>angle</th>\n",
       "      <th>ID</th>\n",
       "      <th>lane_edge</th>\n",
       "      <th>position</th>\n",
       "      <th>slope</th>\n",
       "      <th>speed</th>\n",
       "      <th>type</th>\n",
       "      <th>x</th>\n",
       "      <th>y</th>\n",
       "      <th>z</th>\n",
       "      <th>time</th>\n",
       "    </tr>\n",
       "  </thead>\n",
       "  <tbody>\n",
       "    <tr>\n",
       "      <th>2</th>\n",
       "      <td>21600.0</td>\n",
       "      <td>50.48</td>\n",
       "      <td>pedestrian_2-1_3985_tr</td>\n",
       "      <td>153330#1_1</td>\n",
       "      <td>2.2</td>\n",
       "      <td>-1.57</td>\n",
       "      <td>0.0</td>\n",
       "      <td>moped</td>\n",
       "      <td>4811.50</td>\n",
       "      <td>2704.21</td>\n",
       "      <td>143.81</td>\n",
       "      <td>06:00:00</td>\n",
       "    </tr>\n",
       "    <tr>\n",
       "      <th>3</th>\n",
       "      <td>21600.0</td>\n",
       "      <td>50.48</td>\n",
       "      <td>pedestrian_2-1_3985</td>\n",
       "      <td>153330#1</td>\n",
       "      <td>2.20</td>\n",
       "      <td>-1.55</td>\n",
       "      <td>0.0</td>\n",
       "      <td>pedestrian</td>\n",
       "      <td>4811.50</td>\n",
       "      <td>2704.21</td>\n",
       "      <td>143.81</td>\n",
       "      <td>06:00:00</td>\n",
       "    </tr>\n",
       "    <tr>\n",
       "      <th>4</th>\n",
       "      <td>21600.0</td>\n",
       "      <td>307.42</td>\n",
       "      <td>pedestrian_2-1_5063_tr</td>\n",
       "      <td>152413#3_1</td>\n",
       "      <td>2.3</td>\n",
       "      <td>-6.20</td>\n",
       "      <td>0.0</td>\n",
       "      <td>motorcycle</td>\n",
       "      <td>2006.06</td>\n",
       "      <td>3313.49</td>\n",
       "      <td>400.40</td>\n",
       "      <td>06:00:00</td>\n",
       "    </tr>\n",
       "    <tr>\n",
       "      <th>5</th>\n",
       "      <td>21600.0</td>\n",
       "      <td>307.42</td>\n",
       "      <td>pedestrian_2-1_5063</td>\n",
       "      <td>152413#3</td>\n",
       "      <td>2.30</td>\n",
       "      <td>-6.20</td>\n",
       "      <td>0.0</td>\n",
       "      <td>pedestrian</td>\n",
       "      <td>2006.06</td>\n",
       "      <td>3313.49</td>\n",
       "      <td>400.40</td>\n",
       "      <td>06:00:00</td>\n",
       "    </tr>\n",
       "    <tr>\n",
       "      <th>6</th>\n",
       "      <td>21600.0</td>\n",
       "      <td>121.94</td>\n",
       "      <td>pedestrian_2-1_5887_tr</td>\n",
       "      <td>-152557#1_1</td>\n",
       "      <td>2.3</td>\n",
       "      <td>-0.04</td>\n",
       "      <td>0.0</td>\n",
       "      <td>motorcycle</td>\n",
       "      <td>6482.50</td>\n",
       "      <td>3763.28</td>\n",
       "      <td>57.60</td>\n",
       "      <td>06:00:00</td>\n",
       "    </tr>\n",
       "  </tbody>\n",
       "</table>\n",
       "</div>"
      ],
      "text/plain": [
       "         t   angle                      ID    lane_edge position  slope  \\\n",
       "2  21600.0   50.48  pedestrian_2-1_3985_tr   153330#1_1      2.2  -1.57   \n",
       "3  21600.0   50.48     pedestrian_2-1_3985     153330#1     2.20  -1.55   \n",
       "4  21600.0  307.42  pedestrian_2-1_5063_tr   152413#3_1      2.3  -6.20   \n",
       "5  21600.0  307.42     pedestrian_2-1_5063     152413#3     2.30  -6.20   \n",
       "6  21600.0  121.94  pedestrian_2-1_5887_tr  -152557#1_1      2.3  -0.04   \n",
       "\n",
       "   speed        type        x        y       z      time  \n",
       "2    0.0       moped  4811.50  2704.21  143.81  06:00:00  \n",
       "3    0.0  pedestrian  4811.50  2704.21  143.81  06:00:00  \n",
       "4    0.0  motorcycle  2006.06  3313.49  400.40  06:00:00  \n",
       "5    0.0  pedestrian  2006.06  3313.49  400.40  06:00:00  \n",
       "6    0.0  motorcycle  6482.50  3763.28   57.60  06:00:00  "
      ]
     },
     "execution_count": 2,
     "metadata": {},
     "output_type": "execute_result"
    }
   ],
   "source": [
    "data = pd.read_pickle(\"MoST_0600_0830_processed.pkl\")\n",
    "\n",
    "data.head()"
   ]
  },
  {
   "cell_type": "markdown",
   "metadata": {},
   "source": [
    "## Framing the Problem"
   ]
  },
  {
   "cell_type": "markdown",
   "metadata": {},
   "source": [
    "We want to classify vehicles. As we saw in [this notebook](notebook_link), there's something strange about pedestrians. There we re-classified them based on an intuition about what the possible bug could be; here we aim at seeing if a machine learning algorithm can do better.\n",
    "\n",
    "We decided to opt for deep learning, so as to constitute a complementary approach WRT to [this notebook](notebook_link), that uses tha SKTimes, well suited for time-series classification and that should perform better. Even using DP, we have two main strategies:\n",
    "* doing a feature extraction on the multi-variate time-series that represent each vehicle path, and then doing a \"standard\" classification problem with such features;\n",
    "* use our dataframe as-is and using directly time-series as our to-be-classified data.\n",
    "\n",
    "We start with this second approach to exploit more time-series, even if it could prove to be more complex / resource-intensive."
   ]
  },
  {
   "cell_type": "markdown",
   "metadata": {},
   "source": [
    "## Selecting Features"
   ]
  },
  {
   "cell_type": "markdown",
   "metadata": {},
   "source": [
    "The first step in our problem is so to select the features get the good data we want; let's recapitulate them:"
   ]
  },
  {
   "cell_type": "code",
   "execution_count": 5,
   "metadata": {},
   "outputs": [
    {
     "data": {
      "text/plain": [
       "Index(['t', 'angle', 'ID', 'lane_edge', 'position', 'slope', 'speed', 'type',\n",
       "       'x', 'y', 'z', 'time'],\n",
       "      dtype='object')"
      ]
     },
     "execution_count": 5,
     "metadata": {},
     "output_type": "execute_result"
    }
   ],
   "source": [
    "data.columns"
   ]
  },
  {
   "cell_type": "markdown",
   "metadata": {},
   "source": [
    "* Concerning time we only keep one (<font color=\"aqua\">which one is better though? Lighter / more easily exploitable?</font>).\n",
    "* ID of course we need it, to understand it is the same time-series\n",
    "* lane_edge is probably useful, since the list of lanes will help to better understand the other variables?\n",
    "* angle, position, slope, x, y, z are (probably) related to the lane so not very interesting\n",
    "* speed for sure\n",
    "* type is our target\n",
    "\n",
    "Let's proceed so:"
   ]
  },
  {
   "cell_type": "code",
   "execution_count": 7,
   "metadata": {},
   "outputs": [
    {
     "data": {
      "text/html": [
       "<div>\n",
       "<style scoped>\n",
       "    .dataframe tbody tr th:only-of-type {\n",
       "        vertical-align: middle;\n",
       "    }\n",
       "\n",
       "    .dataframe tbody tr th {\n",
       "        vertical-align: top;\n",
       "    }\n",
       "\n",
       "    .dataframe thead th {\n",
       "        text-align: right;\n",
       "    }\n",
       "</style>\n",
       "<table border=\"1\" class=\"dataframe\">\n",
       "  <thead>\n",
       "    <tr style=\"text-align: right;\">\n",
       "      <th></th>\n",
       "      <th>t</th>\n",
       "      <th>ID</th>\n",
       "      <th>lane_edge</th>\n",
       "      <th>speed</th>\n",
       "      <th>type</th>\n",
       "    </tr>\n",
       "  </thead>\n",
       "  <tbody>\n",
       "    <tr>\n",
       "      <th>2</th>\n",
       "      <td>21600.0</td>\n",
       "      <td>pedestrian_2-1_3985_tr</td>\n",
       "      <td>153330#1_1</td>\n",
       "      <td>0.0</td>\n",
       "      <td>moped</td>\n",
       "    </tr>\n",
       "    <tr>\n",
       "      <th>3</th>\n",
       "      <td>21600.0</td>\n",
       "      <td>pedestrian_2-1_3985</td>\n",
       "      <td>153330#1</td>\n",
       "      <td>0.0</td>\n",
       "      <td>pedestrian</td>\n",
       "    </tr>\n",
       "    <tr>\n",
       "      <th>4</th>\n",
       "      <td>21600.0</td>\n",
       "      <td>pedestrian_2-1_5063_tr</td>\n",
       "      <td>152413#3_1</td>\n",
       "      <td>0.0</td>\n",
       "      <td>motorcycle</td>\n",
       "    </tr>\n",
       "    <tr>\n",
       "      <th>5</th>\n",
       "      <td>21600.0</td>\n",
       "      <td>pedestrian_2-1_5063</td>\n",
       "      <td>152413#3</td>\n",
       "      <td>0.0</td>\n",
       "      <td>pedestrian</td>\n",
       "    </tr>\n",
       "    <tr>\n",
       "      <th>6</th>\n",
       "      <td>21600.0</td>\n",
       "      <td>pedestrian_2-1_5887_tr</td>\n",
       "      <td>-152557#1_1</td>\n",
       "      <td>0.0</td>\n",
       "      <td>motorcycle</td>\n",
       "    </tr>\n",
       "  </tbody>\n",
       "</table>\n",
       "</div>"
      ],
      "text/plain": [
       "         t                      ID    lane_edge  speed        type\n",
       "2  21600.0  pedestrian_2-1_3985_tr   153330#1_1    0.0       moped\n",
       "3  21600.0     pedestrian_2-1_3985     153330#1    0.0  pedestrian\n",
       "4  21600.0  pedestrian_2-1_5063_tr   152413#3_1    0.0  motorcycle\n",
       "5  21600.0     pedestrian_2-1_5063     152413#3    0.0  pedestrian\n",
       "6  21600.0  pedestrian_2-1_5887_tr  -152557#1_1    0.0  motorcycle"
      ]
     },
     "execution_count": 7,
     "metadata": {},
     "output_type": "execute_result"
    }
   ],
   "source": [
    "data.drop(['angle', 'position', 'slope', 'x', 'y', 'z', 'time'], axis=1, inplace=True)\n",
    "\n",
    "data.head()"
   ]
  },
  {
   "cell_type": "markdown",
   "metadata": {},
   "source": [
    "We could infer some derived variables, such as approximate acceleration; nonetheless, if we are working directly with time-series, the model should be capable to already understand this time-related behaviour, so this should not be necessary."
   ]
  },
  {
   "cell_type": "markdown",
   "metadata": {},
   "source": [
    "## Splitting the data base"
   ]
  },
  {
   "cell_type": "markdown",
   "metadata": {},
   "source": [
    "Another thing to do is to divide our dataframe into training and testing sets.\n",
    "<font color=\"aqua\">Take into account the fact that the database is probably strongly unbalanced?</font>\n",
    "\n",
    "To do so, we have to remember that we want to classify pedestrians. Nonetheless, we cannot just move all of them into testing set, because the model should learn also what a pedestrian time-series looks like!\n",
    "We need to find a simple method to get what could be \"true\" pedestrians.\n",
    "\n",
    "Let's naively start with speed."
   ]
  },
  {
   "cell_type": "markdown",
   "metadata": {},
   "source": [
    "First, how many possible pedestrians we have?"
   ]
  },
  {
   "cell_type": "code",
   "execution_count": 13,
   "metadata": {},
   "outputs": [
    {
     "name": "stdout",
     "output_type": "stream",
     "text": [
      "19526 pedestrians out of 38882 objects\n"
     ]
    }
   ],
   "source": [
    "A = data[data['type']=='pedestrian']['ID'].unique()\n",
    "B = data['ID'].unique()\n",
    "\n",
    "print(F\"{len(A)} pedestrians out of {len(B)} objects\")"
   ]
  },
  {
   "cell_type": "markdown",
   "metadata": {},
   "source": [
    "More than half.\n",
    "\n",
    "[SUMo vehicle type parameter defaults](https://sumo.dlr.de/docs/Vehicle_Type_Parameter_Defaults.html) tell us v=5.4 km/h. With some variation (std=0,1), more than 99 % of pedestrians should have v_max<=5,7. let's choose a speed of 6 km/h as limit."
   ]
  },
  {
   "cell_type": "code",
   "execution_count": 146,
   "metadata": {},
   "outputs": [],
   "source": [
    "ped_type = data[data['type']=='pedestrian'].groupby('ID')['speed'].max()"
   ]
  },
  {
   "cell_type": "code",
   "execution_count": 147,
   "metadata": {},
   "outputs": [],
   "source": [
    "real_ped = ped_type[ped_type<6]"
   ]
  },
  {
   "cell_type": "code",
   "execution_count": 148,
   "metadata": {},
   "outputs": [
    {
     "data": {
      "text/plain": [
       "ID\n",
       "pedestrian_1-1-pt_1013    5.508\n",
       "pedestrian_1-1-pt_1042    3.924\n",
       "pedestrian_1-1-pt_1053    3.456\n",
       "pedestrian_1-1-pt_1054    4.608\n",
       "pedestrian_1-1-pt_1075    3.060\n",
       "                          ...  \n",
       "pedestrian_2-1_2917       3.600\n",
       "pedestrian_2-1_3415       3.240\n",
       "pedestrian_2-1_4340       3.636\n",
       "pedestrian_2-1_4381       3.528\n",
       "pedestrian_3-1_2654       3.312\n",
       "Name: speed, Length: 460, dtype: float64"
      ]
     },
     "execution_count": 148,
     "metadata": {},
     "output_type": "execute_result"
    }
   ],
   "source": [
    "real_ped"
   ]
  },
  {
   "cell_type": "markdown",
   "metadata": {},
   "source": [
    "460! Out of the almost 20000 \"possible pedestrians\", only 460 have a max. speed lower than the maximum declared!\n",
    "\n",
    "Let's do a kind of \"manual sanity check\" on acceleration. [SUMo vehicle type parameter defaults](https://sumo.dlr.de/docs/Vehicle_Type_Parameter_Defaults.html) tell us a_max = 1.5, a_min = -2, (m/s2). With some variation (std=0,1), more than 99 % of pedestrians should have a_max<1,8 and a_min>-2,3. Let's choose a -2,5<a<2."
   ]
  },
  {
   "cell_type": "code",
   "execution_count": 149,
   "metadata": {},
   "outputs": [],
   "source": [
    "ped_speeds = data[data['type']=='pedestrian'][['ID', 'speed']]\n",
    "real_ped = pd.DataFrame(real_ped)"
   ]
  },
  {
   "cell_type": "code",
   "execution_count": 153,
   "metadata": {},
   "outputs": [],
   "source": [
    "def get_acc_peaks(ID):\n",
    "    acc = ped_speeds[ped_speeds['ID']==ID]['speed'].diff()[1:]/5/3.6 # m/s^2\n",
    "    try:\n",
    "        return min(acc), max(acc)\n",
    "    except ValueError:\n",
    "        return 0, 0\n",
    "\n",
    "def set_acc_peaks(DF):\n",
    "    ind, acc_min, acc_max = [], [], []\n",
    "    for obj_ID, _ in DF.iterrows():\n",
    "        m, M = get_acc_peaks(obj_ID)\n",
    "        ind.append(obj_ID)\n",
    "        acc_min.append(m)\n",
    "        acc_max.append(M)\n",
    "    return pd.DataFrame({\"min.\": acc_min, \"max.\": acc_max}, index=DF.index)"
   ]
  },
  {
   "cell_type": "code",
   "execution_count": 157,
   "metadata": {},
   "outputs": [],
   "source": [
    "real_ped[[\"a min.\", \"a max.\"]] = set_acc_peaks(real_ped)"
   ]
  },
  {
   "cell_type": "code",
   "execution_count": 168,
   "metadata": {},
   "outputs": [],
   "source": [
    "assert real_ped[real_ped['a min.']<-2.5].empty\n",
    "assert real_ped[real_ped['a max.']>2].empty"
   ]
  },
  {
   "cell_type": "markdown",
   "metadata": {},
   "source": [
    "OK, those will then be our \"real\" pedestrians. The other will be the objects to be classified."
   ]
  },
  {
   "cell_type": "code",
   "execution_count": 188,
   "metadata": {},
   "outputs": [],
   "source": [
    "test_data = data[data['ID'].isin(ped_type[ped_type>6].index)]\n",
    "train_data = data[~data['ID'].isin(test_data['ID'])]"
   ]
  },
  {
   "cell_type": "markdown",
   "metadata": {},
   "source": [
    "Unfortunately the train and test sizes cannot be chosen; let's see their ratio to see if it's good:"
   ]
  },
  {
   "cell_type": "code",
   "execution_count": 196,
   "metadata": {},
   "outputs": [
    {
     "name": "stdout",
     "output_type": "stream",
     "text": [
      "Train time-series: 19816, corresponding to 50.96% % of the data set\n",
      "Test time-series: 19066, corresponding to 49.04% % of the data set\n"
     ]
    }
   ],
   "source": [
    "train_size = len(train_data['ID'].unique())\n",
    "test_size = len(test_data['ID'].unique())\n",
    "data_size = len(data['ID'].unique())\n",
    "print(F\"Train time-series: {train_size}, corresponding to {train_size/data_size:.2%} of the data set\")\n",
    "print(F\"Test time-series: {test_size}, corresponding to {test_size/data_size:.2%} of the data set\")"
   ]
  },
  {
   "cell_type": "code",
   "execution_count": 199,
   "metadata": {},
   "outputs": [
    {
     "name": "stdout",
     "output_type": "stream",
     "text": [
      "Train instances: 8498510, corresponding to 70.86% of the data set\n",
      "Test instances: 3495423, corresponding to 29.14% of the data set\n"
     ]
    }
   ],
   "source": [
    "train_size = len(train_data)\n",
    "test_size = len(test_data)\n",
    "data_size = len(data)\n",
    "print(F\"Train instances: {train_size}, corresponding to {train_size/data_size:.2%} of the data set\")\n",
    "print(F\"Test instances: {test_size}, corresponding to {test_size/data_size:.2%} of the data set\")"
   ]
  },
  {
   "cell_type": "markdown",
   "metadata": {},
   "source": [
    "Our data-set is surprisingly well-balanced if we think about each time stamp as an independent feature! Unfortunately as supposed, reasoning in terms of objects time-series we have almost as many test instances than train instances. Let's see what will happen."
   ]
  },
  {
   "cell_type": "code",
   "execution_count": 200,
   "metadata": {},
   "outputs": [],
   "source": [
    "train_data.to_pickle(\"train.pkl\")\n",
    "test_data.to_pickle(\"test.pkl\")"
   ]
  },
  {
   "cell_type": "markdown",
   "metadata": {},
   "source": [
    "## Building the Classification Model"
   ]
  },
  {
   "cell_type": "code",
   "execution_count": null,
   "metadata": {},
   "outputs": [],
   "source": [
    "train_data = pd.read_pickle(\"train.pkl\")\n",
    "test_data = pd.read_pickle(\"test.pkl\")"
   ]
  },
  {
   "cell_type": "markdown",
   "metadata": {},
   "source": [
    "We have only one numeric feature, so we don't have to scale!\n",
    "But categorical features is not good at the same point..."
   ]
  },
  {
   "cell_type": "code",
   "execution_count": null,
   "metadata": {},
   "outputs": [],
   "source": []
  },
  {
   "cell_type": "code",
   "execution_count": null,
   "metadata": {},
   "outputs": [],
   "source": []
  },
  {
   "cell_type": "code",
   "execution_count": null,
   "metadata": {},
   "outputs": [],
   "source": []
  }
 ],
 "metadata": {
  "kernelspec": {
   "display_name": "Python 3",
   "language": "python",
   "name": "python3"
  },
  "language_info": {
   "codemirror_mode": {
    "name": "ipython",
    "version": 3
   },
   "file_extension": ".py",
   "mimetype": "text/x-python",
   "name": "python",
   "nbconvert_exporter": "python",
   "pygments_lexer": "ipython3",
   "version": "3.7.3"
  }
 },
 "nbformat": 4,
 "nbformat_minor": 4
}
